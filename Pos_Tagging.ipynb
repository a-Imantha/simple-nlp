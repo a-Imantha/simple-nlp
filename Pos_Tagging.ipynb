{
  "nbformat": 4,
  "nbformat_minor": 0,
  "metadata": {
    "colab": {
      "name": "POS TAGGING.ipynb",
      "provenance": [],
      "toc_visible": true,
      "authorship_tag": "ABX9TyM9rj6PZ24XVURH5Hh4F4UG",
      "include_colab_link": true
    },
    "kernelspec": {
      "name": "python3",
      "display_name": "Python 3"
    },
    "language_info": {
      "name": "python"
    }
  },
  "cells": [
    {
      "cell_type": "markdown",
      "metadata": {
        "id": "view-in-github",
        "colab_type": "text"
      },
      "source": [
        "<a href=\"https://colab.research.google.com/github/a-Imantha/simple-nlp/blob/main/Pos_Tagging.ipynb\" target=\"_parent\"><img src=\"https://colab.research.google.com/assets/colab-badge.svg\" alt=\"Open In Colab\"/></a>"
      ]
    },
    {
      "cell_type": "markdown",
      "metadata": {
        "id": "AlGKMzisCtXo"
      },
      "source": [
        "# POS Tagging\n",
        "\n"
      ]
    },
    {
      "cell_type": "markdown",
      "metadata": {
        "id": "jP1ojkzJDEpE"
      },
      "source": [
        "## Download Dataset"
      ]
    },
    {
      "cell_type": "code",
      "metadata": {
        "colab": {
          "base_uri": "https://localhost:8080/"
        },
        "id": "4VPOUxD_xRT7",
        "outputId": "9a5214d0-7d84-4bc9-ac60-35e5dca9b330"
      },
      "source": [
        "!pip install gdown"
      ],
      "execution_count": null,
      "outputs": [
        {
          "output_type": "stream",
          "text": [
            "Requirement already satisfied: gdown in /usr/local/lib/python3.7/dist-packages (3.6.4)\n",
            "Requirement already satisfied: tqdm in /usr/local/lib/python3.7/dist-packages (from gdown) (4.41.1)\n",
            "Requirement already satisfied: requests in /usr/local/lib/python3.7/dist-packages (from gdown) (2.23.0)\n",
            "Requirement already satisfied: six in /usr/local/lib/python3.7/dist-packages (from gdown) (1.15.0)\n",
            "Requirement already satisfied: idna<3,>=2.5 in /usr/local/lib/python3.7/dist-packages (from requests->gdown) (2.10)\n",
            "Requirement already satisfied: certifi>=2017.4.17 in /usr/local/lib/python3.7/dist-packages (from requests->gdown) (2020.12.5)\n",
            "Requirement already satisfied: chardet<4,>=3.0.2 in /usr/local/lib/python3.7/dist-packages (from requests->gdown) (3.0.4)\n",
            "Requirement already satisfied: urllib3!=1.25.0,!=1.25.1,<1.26,>=1.21.1 in /usr/local/lib/python3.7/dist-packages (from requests->gdown) (1.24.3)\n"
          ],
          "name": "stdout"
        }
      ]
    },
    {
      "cell_type": "code",
      "metadata": {
        "colab": {
          "base_uri": "https://localhost:8080/"
        },
        "id": "-24Y71SRxUti",
        "outputId": "40495ab4-42ac-4353-f570-2739a9c1b532"
      },
      "source": [
        "import gdown\n",
        "gdown.download('https://drive.google.com/uc?id=1ALo3_vX1ci2lZpq_bDVHvK6MiAHphjVT','zip_files.zip', quiet=False)\n",
        "!unzip '/content/zip_files.zip'"
      ],
      "execution_count": null,
      "outputs": [
        {
          "output_type": "stream",
          "text": [
            "Downloading...\n",
            "From: https://drive.google.com/uc?id=DATASET_LOCATION_GDRIVE\n",
            "To: /content/zip_files.zip\n",
            "100%|██████████| 4.49k/4.49k [00:00<00:00, 4.55MB/s]"
          ],
          "name": "stderr"
        },
        {
          "output_type": "stream",
          "text": [
            "Archive:  /content/zip_files.zip\n",
            "  inflating: FILE_NAME.txt   \n"
          ],
          "name": "stdout"
        },
        {
          "output_type": "stream",
          "text": [
            "\n"
          ],
          "name": "stderr"
        }
      ]
    },
    {
      "cell_type": "markdown",
      "metadata": {
        "id": "QRoxrV0MDN2o"
      },
      "source": [
        "## Import and Download Required packages"
      ]
    },
    {
      "cell_type": "code",
      "metadata": {
        "id": "kumSlpWucILS",
        "colab": {
          "base_uri": "https://localhost:8080/"
        },
        "outputId": "b935da89-5c00-45bd-e432-471aeb93d01c"
      },
      "source": [
        "import nltk\n",
        "from nltk.tokenize import sent_tokenize,word_tokenize\n",
        "nltk.download(['punkt','averaged_perceptron_tagger','universal_tagset','brown'])"
      ],
      "execution_count": null,
      "outputs": [
        {
          "output_type": "stream",
          "text": [
            "[nltk_data] Downloading package punkt to /root/nltk_data...\n",
            "[nltk_data]   Unzipping tokenizers/punkt.zip.\n",
            "[nltk_data] Downloading package averaged_perceptron_tagger to\n",
            "[nltk_data]     /root/nltk_data...\n",
            "[nltk_data]   Unzipping taggers/averaged_perceptron_tagger.zip.\n",
            "[nltk_data] Downloading package universal_tagset to /root/nltk_data...\n",
            "[nltk_data]   Unzipping taggers/universal_tagset.zip.\n",
            "[nltk_data] Downloading package brown to /root/nltk_data...\n",
            "[nltk_data]   Unzipping corpora/brown.zip.\n"
          ],
          "name": "stdout"
        },
        {
          "output_type": "execute_result",
          "data": {
            "text/plain": [
              "True"
            ]
          },
          "metadata": {
            "tags": []
          },
          "execution_count": 3
        }
      ]
    },
    {
      "cell_type": "markdown",
      "metadata": {
        "id": "qXQQvW-MDZK3"
      },
      "source": [
        "## Processing the Evaluation Data"
      ]
    },
    {
      "cell_type": "code",
      "metadata": {
        "id": "6SKCsZv4mmjK"
      },
      "source": [
        "text = sent_tokenize(open(\"/content/feedback_cs2012_1.txt\",\"r\").read())\n",
        "text = [word_tokenize(i) for i in text]"
      ],
      "execution_count": null,
      "outputs": []
    },
    {
      "cell_type": "markdown",
      "metadata": {
        "id": "ldWyZzY9DdDR"
      },
      "source": [
        "## Preparing the Training Data Corpus"
      ]
    },
    {
      "cell_type": "code",
      "metadata": {
        "id": "mLPCmlP7rXfm"
      },
      "source": [
        "from nltk.corpus import brown\n",
        "brown_tagged_sents = brown.tagged_sents(categories=['news','reviews'],tagset='universal')"
      ],
      "execution_count": null,
      "outputs": []
    },
    {
      "cell_type": "markdown",
      "metadata": {
        "id": "NPGmh3GLDj4P"
      },
      "source": [
        "## POS Tagging"
      ]
    },
    {
      "cell_type": "markdown",
      "metadata": {
        "id": "bGn6BfIIDlu_"
      },
      "source": [
        "### POS TAGGER 1: Unigram Tagger"
      ]
    },
    {
      "cell_type": "code",
      "metadata": {
        "id": "5IcxSr2Ow06A"
      },
      "source": [
        "unigram_tagger = nltk.UnigramTagger(brown_tagged_sents)\n",
        "unigram_tagger_out = unigram_tagger.tag_sents(text)"
      ],
      "execution_count": null,
      "outputs": []
    },
    {
      "cell_type": "markdown",
      "metadata": {
        "id": "3DXoor03Ds7G"
      },
      "source": [
        "### POS TAGGER 2: Bigram Tagger"
      ]
    },
    {
      "cell_type": "code",
      "metadata": {
        "id": "8oTSTAMv1PbM"
      },
      "source": [
        "bigram_tagger = nltk.BigramTagger(brown_tagged_sents)\n",
        "bigram_tagger_out = bigram_tagger.tag_sents(text)"
      ],
      "execution_count": null,
      "outputs": []
    },
    {
      "cell_type": "markdown",
      "metadata": {
        "id": "vZv01MSGDwB3"
      },
      "source": [
        "### POS TAGGER 3: Bigram Tagger with Unigram tagger as backoff"
      ]
    },
    {
      "cell_type": "code",
      "metadata": {
        "id": "b7MorZdhx04n"
      },
      "source": [
        "bigram_tagger_comp = nltk.BigramTagger(brown_tagged_sents, backoff=unigram_tagger)\n",
        "bigram_tagger_comp_out = bigram_tagger_comp.tag_sents(text)"
      ],
      "execution_count": null,
      "outputs": []
    },
    {
      "cell_type": "markdown",
      "metadata": {
        "id": "J_TI2JrcD4K3"
      },
      "source": [
        "### POS TAGGER 4: Regexp Tagger"
      ]
    },
    {
      "cell_type": "code",
      "metadata": {
        "id": "OtE6opYv5Vv7"
      },
      "source": [
        "patterns = [\n",
        "            (r'.*ing$', 'VERB'),                # gerunds\n",
        "            (r'.*ed$', 'VERB'),                 # simple past\n",
        "            (r'.*es$', 'VERB'),                 # 3rd singular present\n",
        "            (r'.*ould$', 'VERB'),                # modals\n",
        "            (r'.*\\'s$', 'NOUN'),                # possessive nouns\n",
        "            (r'.*s$', 'NOUN'),                  # plural nouns\n",
        "            (r'^-?[0-9]+(\\.[0-9]+)?$', 'NUM'),  # cardinal numbers\n",
        "            (r'.*', 'NOUN')                      # nouns (default)\n",
        "          ]\n",
        "regexp_tagger = nltk.RegexpTagger(patterns)\n",
        "regexp_tagger_out = regexp_tagger.tag_sents(text)"
      ],
      "execution_count": null,
      "outputs": []
    },
    {
      "cell_type": "markdown",
      "metadata": {
        "id": "kx55a6PXD_Of"
      },
      "source": [
        "## Writing output to Files"
      ]
    },
    {
      "cell_type": "code",
      "metadata": {
        "id": "KGSFiwB4OZzu"
      },
      "source": [
        "def write_to_file(tagger_output, tagger_name):  \n",
        "  taggedfile = open(tagger_name+\"_output.txt\" , \"w\")\n",
        "  taggedfile_csv = open(tagger_name+\"_output.csv\" , \"w\")\n",
        "  for line in tagger_output:\n",
        "    line_out = \"\"\n",
        "    for sent in line:\n",
        "      line_out = line_out + str(sent[0]) + \"/\" + str(sent[1]) + \" \"\n",
        "      taggedfile_csv.write(str(sent[0]) + \",\" + str(sent[1]) + \"\\n\")\n",
        "    taggedfile.write(line_out + \"\\n\")\n",
        "  taggedfile.close ()\n",
        "  taggedfile_csv.close()"
      ],
      "execution_count": null,
      "outputs": []
    },
    {
      "cell_type": "code",
      "metadata": {
        "id": "layy7wfx0Eub"
      },
      "source": [
        "write_to_file(unigram_tagger_out,\"unigram_tagger\")\n",
        "write_to_file(bigram_tagger_out,\"bigram_tagger\")\n",
        "write_to_file(bigram_tagger_comp_out,\"bigram_tagger_comp\")\n",
        "write_to_file(regexp_tagger_out,\"regexp_tagger\")"
      ],
      "execution_count": null,
      "outputs": []
    }
  ]
}
