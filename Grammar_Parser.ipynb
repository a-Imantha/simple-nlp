{
  "nbformat": 4,
  "nbformat_minor": 0,
  "metadata": {
    "colab": {
      "name": "219306D-Grammar.ipynb",
      "provenance": [],
      "collapsed_sections": [
        "QRoxrV0MDN2o",
        "jaMivnzoYVEa",
        "GNHmh51aYn1L",
        "pHZRcMW1YrBi",
        "sqYXqLTfbYsn"
      ],
      "authorship_tag": "ABX9TyPD9/kDOaYvm0PonYKZM1KG",
      "include_colab_link": true
    },
    "kernelspec": {
      "name": "python3",
      "display_name": "Python 3"
    },
    "language_info": {
      "name": "python"
    }
  },
  "cells": [
    {
      "cell_type": "markdown",
      "metadata": {
        "id": "view-in-github",
        "colab_type": "text"
      },
      "source": [
        "<a href=\"https://colab.research.google.com/github/a-Imantha/simple-nlp/blob/main/Grammar_Parser.ipynb\" target=\"_parent\"><img src=\"https://colab.research.google.com/assets/colab-badge.svg\" alt=\"Open In Colab\"/></a>"
      ]
    },
    {
      "cell_type": "markdown",
      "metadata": {
        "id": "AlGKMzisCtXo"
      },
      "source": [
        "# NLP - Assignment 04 - Grammar\n",
        "**Name: Imantha Ahangama - 219306D**\n"
      ]
    },
    {
      "cell_type": "markdown",
      "metadata": {
        "id": "QRoxrV0MDN2o"
      },
      "source": [
        "## Import and Download Required packages"
      ]
    },
    {
      "cell_type": "code",
      "metadata": {
        "id": "kumSlpWucILS"
      },
      "source": [
        "import nltk\n",
        "from nltk.corpus import treebank\n",
        "from nltk import Tree"
      ],
      "execution_count": null,
      "outputs": []
    },
    {
      "cell_type": "markdown",
      "metadata": {
        "id": "jaMivnzoYVEa"
      },
      "source": [
        "## Define 2 Sentences"
      ]
    },
    {
      "cell_type": "code",
      "metadata": {
        "id": "bLdSD0_BGGrp"
      },
      "source": [
        "sent1 = 'book that flight'\n",
        "sent2 = 'can you book TWA flights'"
      ],
      "execution_count": null,
      "outputs": []
    },
    {
      "cell_type": "markdown",
      "metadata": {
        "id": "GNHmh51aYn1L"
      },
      "source": [
        "## Define Grammar"
      ]
    },
    {
      "cell_type": "code",
      "metadata": {
        "id": "DOgknMQ9VuHs"
      },
      "source": [
        "grammar = nltk.CFG.fromstring(\"\"\"\n",
        "S -> NP VP | Aux NP VP | VP\n",
        "NP -> Det Nominal | Proper-Noun | Nominal | Pronoun\n",
        "Nominal -> Noun | Noun Nominal | Proper-Noun Nominal\n",
        "VP -> Verb | Verb NP | Verb NP NP\n",
        "Noun -> 'book' | 'flight' | 'flights'\n",
        "Verb -> 'book'\n",
        "Det -> 'that'\n",
        "Aux -> 'can'\n",
        "Pronoun -> 'you'\n",
        "Proper-Noun -> 'TWA'\n",
        "\"\"\")"
      ],
      "execution_count": null,
      "outputs": []
    },
    {
      "cell_type": "markdown",
      "metadata": {
        "id": "pHZRcMW1YrBi"
      },
      "source": [
        "## Evaluating Sentence 1"
      ]
    },
    {
      "cell_type": "markdown",
      "metadata": {
        "id": "dFCdtP2HYvaL"
      },
      "source": [
        "### Top-Down Parser (Recursive Descent Parsing)"
      ]
    },
    {
      "cell_type": "code",
      "metadata": {
        "colab": {
          "base_uri": "https://localhost:8080/"
        },
        "id": "-XKOwUfNGBiY",
        "outputId": "29e29c8b-768d-48d6-c2ee-1eedd0d5cc04"
      },
      "source": [
        "rd_parser = nltk.RecursiveDescentParser(grammar, trace=2)\n",
        "for tree in rd_parser.parse(sent1.split()):\n",
        "  tree.pretty_print()"
      ],
      "execution_count": null,
      "outputs": [
        {
          "output_type": "stream",
          "text": [
            "Parsing 'book that flight'\n",
            "    [ * S ]\n",
            "  E [ * NP VP ]\n",
            "  E [ * Det Nominal VP ]\n",
            "  E [ * 'that' Nominal VP ]\n",
            "  E [ * Proper-Noun VP ]\n",
            "  E [ * 'TWA' VP ]\n",
            "  E [ * Nominal VP ]\n",
            "  E [ * Noun VP ]\n",
            "  E [ * 'book' VP ]\n",
            "  M [ 'book' * VP ]\n",
            "  E [ 'book' * Verb ]\n",
            "  E [ 'book' * 'book' ]\n",
            "  E [ 'book' * Verb NP ]\n",
            "  E [ 'book' * 'book' NP ]\n",
            "  E [ 'book' * Verb NP NP ]\n",
            "  E [ 'book' * 'book' NP NP ]\n",
            "  E [ * 'flight' VP ]\n",
            "  E [ * 'flights' VP ]\n",
            "  E [ * Noun Nominal VP ]\n",
            "  E [ * 'book' Nominal VP ]\n",
            "  M [ 'book' * Nominal VP ]\n",
            "  E [ 'book' * Noun VP ]\n",
            "  E [ 'book' * 'book' VP ]\n",
            "  E [ 'book' * 'flight' VP ]\n",
            "  E [ 'book' * 'flights' VP ]\n",
            "  E [ 'book' * Noun Nominal VP ]\n",
            "  E [ 'book' * 'book' Nominal VP ]\n",
            "  E [ 'book' * 'flight' Nominal VP ]\n",
            "  E [ 'book' * 'flights' Nominal VP ]\n",
            "  E [ 'book' * Proper-Noun Nominal VP ]\n",
            "  E [ 'book' * 'TWA' Nominal VP ]\n",
            "  E [ * 'flight' Nominal VP ]\n",
            "  E [ * 'flights' Nominal VP ]\n",
            "  E [ * Proper-Noun Nominal VP ]\n",
            "  E [ * 'TWA' Nominal VP ]\n",
            "  E [ * Pronoun VP ]\n",
            "  E [ * 'you' VP ]\n",
            "  E [ * Aux NP VP ]\n",
            "  E [ * 'can' NP VP ]\n",
            "  E [ * VP ]\n",
            "  E [ * Verb ]\n",
            "  E [ * 'book' ]\n",
            "  M [ 'book' ]\n",
            "  E [ * Verb NP ]\n",
            "  E [ * 'book' NP ]\n",
            "  M [ 'book' * NP ]\n",
            "  E [ 'book' * Det Nominal ]\n",
            "  E [ 'book' * 'that' Nominal ]\n",
            "  M [ 'book' 'that' * Nominal ]\n",
            "  E [ 'book' 'that' * Noun ]\n",
            "  E [ 'book' 'that' * 'book' ]\n",
            "  E [ 'book' 'that' * 'flight' ]\n",
            "  M [ 'book' 'that' 'flight' ]\n",
            "  + [ 'book' 'that' 'flight' ]\n",
            "      S              \n",
            "      |               \n",
            "      VP             \n",
            "  ____|____           \n",
            " |         NP        \n",
            " |     ____|_____     \n",
            " |    |       Nominal\n",
            " |    |          |    \n",
            "Verb Det        Noun \n",
            " |    |          |    \n",
            "book that      flight\n",
            "\n",
            "  E [ 'book' 'that' * 'flights' ]\n",
            "  E [ 'book' 'that' * Noun Nominal ]\n",
            "  E [ 'book' 'that' * 'book' Nominal ]\n",
            "  E [ 'book' 'that' * 'flight' Nominal ]\n",
            "  M [ 'book' 'that' 'flight' * Nominal ]\n",
            "  E [ 'book' 'that' 'flight' * Noun ]\n",
            "  E [ 'book' 'that' 'flight' * 'book' ]\n",
            "  E [ 'book' 'that' 'flight' * 'flight' ]\n",
            "  E [ 'book' 'that' 'flight' * 'flights' ]\n",
            "  E [ 'book' 'that' 'flight' * Noun Nominal ]\n",
            "  E [ 'book' 'that' 'flight' * 'book' Nominal ]\n",
            "  E [ 'book' 'that' 'flight' * 'flight' Nominal ]\n",
            "  E [ 'book' 'that' 'flight' * 'flights' Nominal ]\n",
            "  E [ 'book' 'that' 'flight' * Proper-Noun Nominal ]\n",
            "  E [ 'book' 'that' 'flight' * 'TWA' Nominal ]\n",
            "  E [ 'book' 'that' * 'flights' Nominal ]\n",
            "  E [ 'book' 'that' * Proper-Noun Nominal ]\n",
            "  E [ 'book' 'that' * 'TWA' Nominal ]\n",
            "  E [ 'book' * Proper-Noun ]\n",
            "  E [ 'book' * 'TWA' ]\n",
            "  E [ 'book' * Nominal ]\n",
            "  E [ 'book' * Noun ]\n",
            "  E [ 'book' * 'book' ]\n",
            "  E [ 'book' * 'flight' ]\n",
            "  E [ 'book' * 'flights' ]\n",
            "  E [ 'book' * Noun Nominal ]\n",
            "  E [ 'book' * 'book' Nominal ]\n",
            "  E [ 'book' * 'flight' Nominal ]\n",
            "  E [ 'book' * 'flights' Nominal ]\n",
            "  E [ 'book' * Proper-Noun Nominal ]\n",
            "  E [ 'book' * 'TWA' Nominal ]\n",
            "  E [ 'book' * Pronoun ]\n",
            "  E [ 'book' * 'you' ]\n",
            "  E [ * Verb NP NP ]\n",
            "  E [ * 'book' NP NP ]\n",
            "  M [ 'book' * NP NP ]\n",
            "  E [ 'book' * Det Nominal NP ]\n",
            "  E [ 'book' * 'that' Nominal NP ]\n",
            "  M [ 'book' 'that' * Nominal NP ]\n",
            "  E [ 'book' 'that' * Noun NP ]\n",
            "  E [ 'book' 'that' * 'book' NP ]\n",
            "  E [ 'book' 'that' * 'flight' NP ]\n",
            "  M [ 'book' 'that' 'flight' * NP ]\n",
            "  E [ 'book' 'that' 'flight' * Det Nominal ]\n",
            "  E [ 'book' 'that' 'flight' * 'that' Nominal ]\n",
            "  E [ 'book' 'that' 'flight' * Proper-Noun ]\n",
            "  E [ 'book' 'that' 'flight' * 'TWA' ]\n",
            "  E [ 'book' 'that' 'flight' * Nominal ]\n",
            "  E [ 'book' 'that' 'flight' * Noun ]\n",
            "  E [ 'book' 'that' 'flight' * 'book' ]\n",
            "  E [ 'book' 'that' 'flight' * 'flight' ]\n",
            "  E [ 'book' 'that' 'flight' * 'flights' ]\n",
            "  E [ 'book' 'that' 'flight' * Noun Nominal ]\n",
            "  E [ 'book' 'that' 'flight' * 'book' Nominal ]\n",
            "  E [ 'book' 'that' 'flight' * 'flight' Nominal ]\n",
            "  E [ 'book' 'that' 'flight' * 'flights' Nominal ]\n",
            "  E [ 'book' 'that' 'flight' * Proper-Noun Nominal ]\n",
            "  E [ 'book' 'that' 'flight' * 'TWA' Nominal ]\n",
            "  E [ 'book' 'that' 'flight' * Pronoun ]\n",
            "  E [ 'book' 'that' 'flight' * 'you' ]\n",
            "  E [ 'book' 'that' * 'flights' NP ]\n",
            "  E [ 'book' 'that' * Noun Nominal NP ]\n",
            "  E [ 'book' 'that' * 'book' Nominal NP ]\n",
            "  E [ 'book' 'that' * 'flight' Nominal NP ]\n",
            "  M [ 'book' 'that' 'flight' * Nominal NP ]\n",
            "  E [ 'book' 'that' 'flight' * Noun NP ]\n",
            "  E [ 'book' 'that' 'flight' * 'book' NP ]\n",
            "  E [ 'book' 'that' 'flight' * 'flight' NP ]\n",
            "  E [ 'book' 'that' 'flight' * 'flights' NP ]\n",
            "  E [ 'book' 'that' 'flight' * Noun Nominal NP ]\n",
            "  E [ 'book' 'that' 'flight' * 'book' Nominal NP ]\n",
            "  E [ 'book' 'that' 'flight' * 'flight' Nominal NP ]\n",
            "  E [ 'book' 'that' 'flight' * 'flights' Nominal NP ]\n",
            "  E [ 'book' 'that' 'flight' * Proper-Noun Nominal NP ]\n",
            "  E [ 'book' 'that' 'flight' * 'TWA' Nominal NP ]\n",
            "  E [ 'book' 'that' * 'flights' Nominal NP ]\n",
            "  E [ 'book' 'that' * Proper-Noun Nominal NP ]\n",
            "  E [ 'book' 'that' * 'TWA' Nominal NP ]\n",
            "  E [ 'book' * Proper-Noun NP ]\n",
            "  E [ 'book' * 'TWA' NP ]\n",
            "  E [ 'book' * Nominal NP ]\n",
            "  E [ 'book' * Noun NP ]\n",
            "  E [ 'book' * 'book' NP ]\n",
            "  E [ 'book' * 'flight' NP ]\n",
            "  E [ 'book' * 'flights' NP ]\n",
            "  E [ 'book' * Noun Nominal NP ]\n",
            "  E [ 'book' * 'book' Nominal NP ]\n",
            "  E [ 'book' * 'flight' Nominal NP ]\n",
            "  E [ 'book' * 'flights' Nominal NP ]\n",
            "  E [ 'book' * Proper-Noun Nominal NP ]\n",
            "  E [ 'book' * 'TWA' Nominal NP ]\n",
            "  E [ 'book' * Pronoun NP ]\n",
            "  E [ 'book' * 'you' NP ]\n"
          ],
          "name": "stdout"
        }
      ]
    },
    {
      "cell_type": "markdown",
      "metadata": {
        "id": "504J85v6ZaK_"
      },
      "source": [
        "### Bottom-Up Parser (BottomUpChartParser)"
      ]
    },
    {
      "cell_type": "markdown",
      "metadata": {
        "id": "mQW01oT8h81Y"
      },
      "source": [
        "#### Shift-Reduce Parsing"
      ]
    },
    {
      "cell_type": "code",
      "metadata": {
        "colab": {
          "base_uri": "https://localhost:8080/"
        },
        "id": "PrDIsarGiHpv",
        "outputId": "781020cf-699b-4338-ab52-36fef68f1c7b"
      },
      "source": [
        "sr_parser = nltk.ShiftReduceParser(grammar, trace=2)\n",
        "for tree in sr_parser.parse(sent1.split()):\n",
        "  tree.pretty_print()"
      ],
      "execution_count": null,
      "outputs": [
        {
          "output_type": "stream",
          "text": [
            "Warning: Noun -> 'book' will never be used\n",
            "Parsing 'book that flight'\n",
            "    [ * book that flight]\n",
            "  S [ 'book' * that flight]\n",
            "  R [ Noun * that flight]\n",
            "  R [ Nominal * that flight]\n",
            "  R [ NP * that flight]\n",
            "  S [ NP 'that' * flight]\n",
            "  R [ NP Det * flight]\n",
            "  S [ NP Det 'flight' * ]\n",
            "  R [ NP Det Noun * ]\n",
            "  R [ NP Det Nominal * ]\n",
            "  R [ NP NP * ]\n"
          ],
          "name": "stdout"
        }
      ]
    },
    {
      "cell_type": "markdown",
      "metadata": {
        "id": "Xxrr4ZRKh4vW"
      },
      "source": [
        "#### Bottom Up Chart Parser"
      ]
    },
    {
      "cell_type": "code",
      "metadata": {
        "colab": {
          "base_uri": "https://localhost:8080/"
        },
        "id": "uYprssfIWW7t",
        "outputId": "f23fa7f8-f7d8-47ee-999c-52829640b56f"
      },
      "source": [
        "bu_parser = nltk.BottomUpChartParser(grammar, trace=2)\n",
        "for tree in bu_parser.parse(sent1.split()):\n",
        "  tree.pretty_print()"
      ],
      "execution_count": null,
      "outputs": [
        {
          "output_type": "stream",
          "text": [
            "|.    book   .    that   .   flight  .|\n",
            "Leaf Init Rule:\n",
            "|[-----------]           .           .| [0:1] 'book'\n",
            "|.           [-----------]           .| [1:2] 'that'\n",
            "|.           .           [-----------]| [2:3] 'flight'\n",
            "Bottom Up Predict Rule:\n",
            "|>           .           .           .| [0:0] Noun -> * 'book'\n",
            "|>           .           .           .| [0:0] Verb -> * 'book'\n",
            "Single Edge Fundamental Rule:\n",
            "|[-----------]           .           .| [0:1] Noun -> 'book' *\n",
            "|[-----------]           .           .| [0:1] Verb -> 'book' *\n",
            "Bottom Up Predict Rule:\n",
            "|>           .           .           .| [0:0] VP -> * Verb\n",
            "|>           .           .           .| [0:0] VP -> * Verb NP\n",
            "|>           .           .           .| [0:0] VP -> * Verb NP NP\n",
            "Single Edge Fundamental Rule:\n",
            "|[-----------]           .           .| [0:1] VP -> Verb *\n",
            "|[----------->           .           .| [0:1] VP -> Verb * NP\n",
            "|[----------->           .           .| [0:1] VP -> Verb * NP NP\n",
            "Bottom Up Predict Rule:\n",
            "|>           .           .           .| [0:0] S  -> * VP\n",
            "Single Edge Fundamental Rule:\n",
            "|[-----------]           .           .| [0:1] S  -> VP *\n",
            "Bottom Up Predict Rule:\n",
            "|>           .           .           .| [0:0] Nominal -> * Noun\n",
            "|>           .           .           .| [0:0] Nominal -> * Noun Nominal\n",
            "Single Edge Fundamental Rule:\n",
            "|[-----------]           .           .| [0:1] Nominal -> Noun *\n",
            "|[----------->           .           .| [0:1] Nominal -> Noun * Nominal\n",
            "Bottom Up Predict Rule:\n",
            "|>           .           .           .| [0:0] NP -> * Nominal\n",
            "Single Edge Fundamental Rule:\n",
            "|[-----------]           .           .| [0:1] NP -> Nominal *\n",
            "Bottom Up Predict Rule:\n",
            "|>           .           .           .| [0:0] S  -> * NP VP\n",
            "Single Edge Fundamental Rule:\n",
            "|[----------->           .           .| [0:1] S  -> NP * VP\n",
            "Bottom Up Predict Rule:\n",
            "|.           >           .           .| [1:1] Det -> * 'that'\n",
            "Single Edge Fundamental Rule:\n",
            "|.           [-----------]           .| [1:2] Det -> 'that' *\n",
            "Bottom Up Predict Rule:\n",
            "|.           >           .           .| [1:1] NP -> * Det Nominal\n",
            "Single Edge Fundamental Rule:\n",
            "|.           [----------->           .| [1:2] NP -> Det * Nominal\n",
            "Bottom Up Predict Rule:\n",
            "|.           .           >           .| [2:2] Noun -> * 'flight'\n",
            "Single Edge Fundamental Rule:\n",
            "|.           .           [-----------]| [2:3] Noun -> 'flight' *\n",
            "Bottom Up Predict Rule:\n",
            "|.           .           >           .| [2:2] Nominal -> * Noun\n",
            "|.           .           >           .| [2:2] Nominal -> * Noun Nominal\n",
            "Single Edge Fundamental Rule:\n",
            "|.           .           [-----------]| [2:3] Nominal -> Noun *\n",
            "|.           .           [----------->| [2:3] Nominal -> Noun * Nominal\n",
            "Bottom Up Predict Rule:\n",
            "|.           .           >           .| [2:2] NP -> * Nominal\n",
            "Single Edge Fundamental Rule:\n",
            "|.           [-----------------------]| [1:3] NP -> Det Nominal *\n",
            "|.           .           [-----------]| [2:3] NP -> Nominal *\n",
            "Bottom Up Predict Rule:\n",
            "|.           .           >           .| [2:2] S  -> * NP VP\n",
            "Single Edge Fundamental Rule:\n",
            "|.           .           [----------->| [2:3] S  -> NP * VP\n",
            "Bottom Up Predict Rule:\n",
            "|.           >           .           .| [1:1] S  -> * NP VP\n",
            "Single Edge Fundamental Rule:\n",
            "|[===================================]| [0:3] VP -> Verb NP *\n",
            "|[----------------------------------->| [0:3] VP -> Verb NP * NP\n",
            "|.           [----------------------->| [1:3] S  -> NP * VP\n",
            "Single Edge Fundamental Rule:\n",
            "|[===================================]| [0:3] S  -> VP *\n",
            "      S              \n",
            "      |               \n",
            "      VP             \n",
            "  ____|____           \n",
            " |         NP        \n",
            " |     ____|_____     \n",
            " |    |       Nominal\n",
            " |    |          |    \n",
            "Verb Det        Noun \n",
            " |    |          |    \n",
            "book that      flight\n",
            "\n"
          ],
          "name": "stdout"
        }
      ]
    },
    {
      "cell_type": "markdown",
      "metadata": {
        "id": "lFKgjPcuam43"
      },
      "source": [
        "### Top-Down Bottom-Up Approach (The Left-Corner Parser)"
      ]
    },
    {
      "cell_type": "code",
      "metadata": {
        "colab": {
          "base_uri": "https://localhost:8080/"
        },
        "id": "N-9Pdzpzaz9W",
        "outputId": "6050e027-b2eb-497f-c130-5d440d491c51"
      },
      "source": [
        "lc_parser = nltk.LeftCornerChartParser(grammar, trace=2)\n",
        "for tree in lc_parser.parse(sent1.split()):\n",
        "  tree.pretty_print()"
      ],
      "execution_count": null,
      "outputs": [
        {
          "output_type": "stream",
          "text": [
            "|.    book   .    that   .   flight  .|\n",
            "Leaf Init Rule:\n",
            "|[-----------]           .           .| [0:1] 'book'\n",
            "|.           [-----------]           .| [1:2] 'that'\n",
            "|.           .           [-----------]| [2:3] 'flight'\n",
            "Filtered Bottom Up Predict Combine Rule:\n",
            "|[-----------]           .           .| [0:1] Noun -> 'book' *\n",
            "|[-----------]           .           .| [0:1] Verb -> 'book' *\n",
            "Filtered Bottom Up Predict Combine Rule:\n",
            "|[-----------]           .           .| [0:1] VP -> Verb *\n",
            "|[----------->           .           .| [0:1] VP -> Verb * NP\n",
            "|[----------->           .           .| [0:1] VP -> Verb * NP NP\n",
            "Filtered Bottom Up Predict Combine Rule:\n",
            "|[-----------]           .           .| [0:1] S  -> VP *\n",
            "Filtered Bottom Up Predict Combine Rule:\n",
            "|[-----------]           .           .| [0:1] Nominal -> Noun *\n",
            "Filtered Bottom Up Predict Combine Rule:\n",
            "|[-----------]           .           .| [0:1] NP -> Nominal *\n",
            "Filtered Bottom Up Predict Combine Rule:\n",
            "|.           [-----------]           .| [1:2] Det -> 'that' *\n",
            "Filtered Bottom Up Predict Combine Rule:\n",
            "|.           [----------->           .| [1:2] NP -> Det * Nominal\n",
            "Filtered Bottom Up Predict Combine Rule:\n",
            "|.           .           [-----------]| [2:3] Noun -> 'flight' *\n",
            "Filtered Bottom Up Predict Combine Rule:\n",
            "|.           .           [-----------]| [2:3] Nominal -> Noun *\n",
            "Filtered Bottom Up Predict Combine Rule:\n",
            "|.           .           [-----------]| [2:3] NP -> Nominal *\n",
            "Filtered Single Edge Fundamental Rule:\n",
            "|.           [-----------------------]| [1:3] NP -> Det Nominal *\n",
            "Filtered Single Edge Fundamental Rule:\n",
            "|[===================================]| [0:3] VP -> Verb NP *\n",
            "Filtered Bottom Up Predict Combine Rule:\n",
            "|[===================================]| [0:3] S  -> VP *\n",
            "      S              \n",
            "      |               \n",
            "      VP             \n",
            "  ____|____           \n",
            " |         NP        \n",
            " |     ____|_____     \n",
            " |    |       Nominal\n",
            " |    |          |    \n",
            "Verb Det        Noun \n",
            " |    |          |    \n",
            "book that      flight\n",
            "\n"
          ],
          "name": "stdout"
        }
      ]
    },
    {
      "cell_type": "markdown",
      "metadata": {
        "id": "sqYXqLTfbYsn"
      },
      "source": [
        "## Evaluating Sentence 2"
      ]
    },
    {
      "cell_type": "markdown",
      "metadata": {
        "id": "hHQqdcuhbYsw"
      },
      "source": [
        "### Top-Down Parser (Recursive Descent Parsing)"
      ]
    },
    {
      "cell_type": "code",
      "metadata": {
        "colab": {
          "base_uri": "https://localhost:8080/"
        },
        "id": "8B4NtZYIbYsw",
        "outputId": "8ba41b4e-d153-45dd-a347-9ae506959410"
      },
      "source": [
        "rd_parser = nltk.RecursiveDescentParser(grammar)\n",
        "for tree in rd_parser.parse(sent2.split()):\n",
        "  tree.pretty_print()"
      ],
      "execution_count": null,
      "outputs": [
        {
          "output_type": "stream",
          "text": [
            "             S                              \n",
            "  ___________|________                       \n",
            " |     |              VP                    \n",
            " |     |      ________|_________             \n",
            " |     |     |                  NP          \n",
            " |     |     |                  |            \n",
            " |     |     |               Nominal        \n",
            " |     |     |         _________|_______     \n",
            " |     NP    |        |              Nominal\n",
            " |     |     |        |                 |    \n",
            "Aux Pronoun Verb Proper-Noun           Noun \n",
            " |     |     |        |                 |    \n",
            "can   you   book     TWA             flights\n",
            "\n",
            "             S                      \n",
            "  ___________|________               \n",
            " |     |              VP            \n",
            " |     |      ________|_________     \n",
            " |     |     |        |         NP  \n",
            " |     |     |        |         |    \n",
            " |     NP    |        NP     Nominal\n",
            " |     |     |        |         |    \n",
            "Aux Pronoun Verb Proper-Noun   Noun \n",
            " |     |     |        |         |    \n",
            "can   you   book     TWA     flights\n",
            "\n"
          ],
          "name": "stdout"
        }
      ]
    },
    {
      "cell_type": "markdown",
      "metadata": {
        "id": "VpVRlC8ZbYsw"
      },
      "source": [
        "### Bottom-Up Parser (BottomUpChartParser)"
      ]
    },
    {
      "cell_type": "markdown",
      "metadata": {
        "id": "b6RjATxziRVd"
      },
      "source": [
        "#### Shift-Reduce Parsing"
      ]
    },
    {
      "cell_type": "code",
      "metadata": {
        "colab": {
          "base_uri": "https://localhost:8080/"
        },
        "id": "bWfGCR-UiRrO",
        "outputId": "5edbc85d-7fe2-4442-dd17-d945a15ed9f3"
      },
      "source": [
        "sr_parser = nltk.ShiftReduceParser(grammar)\n",
        "for tree in sr_parser.parse(sent2.split()):\n",
        "  tree.pretty_print()"
      ],
      "execution_count": null,
      "outputs": [
        {
          "output_type": "stream",
          "text": [
            "Warning: Noun -> 'book' will never be used\n"
          ],
          "name": "stdout"
        }
      ]
    },
    {
      "cell_type": "markdown",
      "metadata": {
        "id": "8iY5GfGjiQ-j"
      },
      "source": [
        "#### Bottom Up Chart Parser"
      ]
    },
    {
      "cell_type": "code",
      "metadata": {
        "colab": {
          "base_uri": "https://localhost:8080/"
        },
        "id": "XQ1VptsxbYsw",
        "outputId": "62d022ba-edc1-4f46-c907-7e081988e6b8"
      },
      "source": [
        "bu_parser = nltk.BottomUpChartParser(grammar)\n",
        "for tree in bu_parser.parse(sent2.split()):\n",
        "  tree.pretty_print()"
      ],
      "execution_count": null,
      "outputs": [
        {
          "output_type": "stream",
          "text": [
            "             S                      \n",
            "  ___________|________               \n",
            " |     |              VP            \n",
            " |     |      ________|_________     \n",
            " |     |     |        |         NP  \n",
            " |     |     |        |         |    \n",
            " |     NP    |        NP     Nominal\n",
            " |     |     |        |         |    \n",
            "Aux Pronoun Verb Proper-Noun   Noun \n",
            " |     |     |        |         |    \n",
            "can   you   book     TWA     flights\n",
            "\n",
            "             S                              \n",
            "  ___________|________                       \n",
            " |     |              VP                    \n",
            " |     |      ________|_________             \n",
            " |     |     |                  NP          \n",
            " |     |     |                  |            \n",
            " |     |     |               Nominal        \n",
            " |     |     |         _________|_______     \n",
            " |     NP    |        |              Nominal\n",
            " |     |     |        |                 |    \n",
            "Aux Pronoun Verb Proper-Noun           Noun \n",
            " |     |     |        |                 |    \n",
            "can   you   book     TWA             flights\n",
            "\n"
          ],
          "name": "stdout"
        }
      ]
    },
    {
      "cell_type": "markdown",
      "metadata": {
        "id": "vQr7yxNkbYsx"
      },
      "source": [
        "### Top-Down Bottom-Up Approach (The Left-Corner Parser)"
      ]
    },
    {
      "cell_type": "code",
      "metadata": {
        "colab": {
          "base_uri": "https://localhost:8080/"
        },
        "id": "iGbtcp3qbYsx",
        "outputId": "44ac2128-c2b9-42f9-fcf4-692d8873ce37"
      },
      "source": [
        "lc_parser = nltk.LeftCornerChartParser(grammar)\n",
        "for tree in lc_parser.parse(sent2.split()):\n",
        "  tree.pretty_print()"
      ],
      "execution_count": null,
      "outputs": [
        {
          "output_type": "stream",
          "text": [
            "             S                              \n",
            "  ___________|________                       \n",
            " |     |              VP                    \n",
            " |     |      ________|_________             \n",
            " |     |     |                  NP          \n",
            " |     |     |                  |            \n",
            " |     |     |               Nominal        \n",
            " |     |     |         _________|_______     \n",
            " |     NP    |        |              Nominal\n",
            " |     |     |        |                 |    \n",
            "Aux Pronoun Verb Proper-Noun           Noun \n",
            " |     |     |        |                 |    \n",
            "can   you   book     TWA             flights\n",
            "\n",
            "             S                      \n",
            "  ___________|________               \n",
            " |     |              VP            \n",
            " |     |      ________|_________     \n",
            " |     |     |        |         NP  \n",
            " |     |     |        |         |    \n",
            " |     NP    |        NP     Nominal\n",
            " |     |     |        |         |    \n",
            "Aux Pronoun Verb Proper-Noun   Noun \n",
            " |     |     |        |         |    \n",
            "can   you   book     TWA     flights\n",
            "\n"
          ],
          "name": "stdout"
        }
      ]
    }
  ]
}